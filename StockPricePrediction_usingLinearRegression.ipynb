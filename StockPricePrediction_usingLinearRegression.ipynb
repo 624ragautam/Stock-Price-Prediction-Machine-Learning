{
 "cells": [
  {
   "cell_type": "code",
   "execution_count": 1,
   "id": "0f5f882d",
   "metadata": {},
   "outputs": [],
   "source": [
    "#Importing Linear Regression Module for predicting the stock prices\n",
    "from sklearn.linear_model import LinearRegression"
   ]
  },
  {
   "cell_type": "code",
   "execution_count": 2,
   "id": "04018d42",
   "metadata": {},
   "outputs": [
    {
     "name": "stderr",
     "output_type": "stream",
     "text": [
      "c:\\users\\gautam\\appdata\\local\\programs\\python\\python39\\lib\\site-packages\\fix_yahoo_finance\\__init__.py:0: DeprecationWarning: \n",
      "\n",
      "*** `fix_yahoo_finance` was renamed to `yfinance`. ***\n",
      "Please install and use `yfinance` directly using `pip install yfinance -U`\n",
      "\n",
      "More information: https://github.com/ranaroussi/yfinance\n",
      "\n"
     ]
    }
   ],
   "source": [
    "#Importing pandas for data visualization\n",
    "import pandas as pd \n",
    "#Importing numpy for error analysis\n",
    "import numpy as np \n",
    "#Importing  matplotlib.pyplot for plotiing graphs\n",
    "import matplotlib.pyplot as plt \n",
    "import seaborn as sns\n",
    "\n",
    "import fix_yahoo_finance as yf"
   ]
  },
  {
   "cell_type": "code",
   "execution_count": 3,
   "id": "54699e25",
   "metadata": {},
   "outputs": [
    {
     "data": {
      "text/html": [
       "<div>\n",
       "<style scoped>\n",
       "    .dataframe tbody tr th:only-of-type {\n",
       "        vertical-align: middle;\n",
       "    }\n",
       "\n",
       "    .dataframe tbody tr th {\n",
       "        vertical-align: top;\n",
       "    }\n",
       "\n",
       "    .dataframe thead th {\n",
       "        text-align: right;\n",
       "    }\n",
       "</style>\n",
       "<table border=\"1\" class=\"dataframe\">\n",
       "  <thead>\n",
       "    <tr style=\"text-align: right;\">\n",
       "      <th></th>\n",
       "      <th>Date</th>\n",
       "      <th>AAPL</th>\n",
       "      <th>BA</th>\n",
       "      <th>T</th>\n",
       "      <th>MGM</th>\n",
       "      <th>AMZN</th>\n",
       "      <th>IBM</th>\n",
       "      <th>TSLA</th>\n",
       "      <th>GOOG</th>\n",
       "      <th>sp500</th>\n",
       "    </tr>\n",
       "  </thead>\n",
       "  <tbody>\n",
       "    <tr>\n",
       "      <th>0</th>\n",
       "      <td>2012-01-12</td>\n",
       "      <td>60.198570</td>\n",
       "      <td>75.510002</td>\n",
       "      <td>30.120001</td>\n",
       "      <td>12.130000</td>\n",
       "      <td>175.929993</td>\n",
       "      <td>180.550003</td>\n",
       "      <td>28.250000</td>\n",
       "      <td>313.644379</td>\n",
       "      <td>1295.500000</td>\n",
       "    </tr>\n",
       "    <tr>\n",
       "      <th>1</th>\n",
       "      <td>2012-01-13</td>\n",
       "      <td>59.972858</td>\n",
       "      <td>74.599998</td>\n",
       "      <td>30.070000</td>\n",
       "      <td>12.350000</td>\n",
       "      <td>178.419998</td>\n",
       "      <td>179.160004</td>\n",
       "      <td>22.790001</td>\n",
       "      <td>311.328064</td>\n",
       "      <td>1289.089966</td>\n",
       "    </tr>\n",
       "    <tr>\n",
       "      <th>2</th>\n",
       "      <td>2012-01-17</td>\n",
       "      <td>60.671429</td>\n",
       "      <td>75.239998</td>\n",
       "      <td>30.250000</td>\n",
       "      <td>12.250000</td>\n",
       "      <td>181.660004</td>\n",
       "      <td>180.000000</td>\n",
       "      <td>26.600000</td>\n",
       "      <td>313.116364</td>\n",
       "      <td>1293.670044</td>\n",
       "    </tr>\n",
       "    <tr>\n",
       "      <th>3</th>\n",
       "      <td>2012-01-18</td>\n",
       "      <td>61.301430</td>\n",
       "      <td>75.059998</td>\n",
       "      <td>30.330000</td>\n",
       "      <td>12.730000</td>\n",
       "      <td>189.440002</td>\n",
       "      <td>181.070007</td>\n",
       "      <td>26.809999</td>\n",
       "      <td>315.273285</td>\n",
       "      <td>1308.040039</td>\n",
       "    </tr>\n",
       "    <tr>\n",
       "      <th>4</th>\n",
       "      <td>2012-01-19</td>\n",
       "      <td>61.107143</td>\n",
       "      <td>75.559998</td>\n",
       "      <td>30.420000</td>\n",
       "      <td>12.800000</td>\n",
       "      <td>194.449997</td>\n",
       "      <td>180.520004</td>\n",
       "      <td>26.760000</td>\n",
       "      <td>318.590851</td>\n",
       "      <td>1314.500000</td>\n",
       "    </tr>\n",
       "    <tr>\n",
       "      <th>...</th>\n",
       "      <td>...</td>\n",
       "      <td>...</td>\n",
       "      <td>...</td>\n",
       "      <td>...</td>\n",
       "      <td>...</td>\n",
       "      <td>...</td>\n",
       "      <td>...</td>\n",
       "      <td>...</td>\n",
       "      <td>...</td>\n",
       "      <td>...</td>\n",
       "    </tr>\n",
       "    <tr>\n",
       "      <th>2154</th>\n",
       "      <td>2020-08-05</td>\n",
       "      <td>440.250000</td>\n",
       "      <td>174.279999</td>\n",
       "      <td>29.850000</td>\n",
       "      <td>16.719999</td>\n",
       "      <td>3205.030029</td>\n",
       "      <td>125.449997</td>\n",
       "      <td>1485.020020</td>\n",
       "      <td>1473.609985</td>\n",
       "      <td>3327.770020</td>\n",
       "    </tr>\n",
       "    <tr>\n",
       "      <th>2155</th>\n",
       "      <td>2020-08-06</td>\n",
       "      <td>455.609985</td>\n",
       "      <td>172.199997</td>\n",
       "      <td>29.840000</td>\n",
       "      <td>18.459999</td>\n",
       "      <td>3225.000000</td>\n",
       "      <td>126.120003</td>\n",
       "      <td>1489.579956</td>\n",
       "      <td>1500.099976</td>\n",
       "      <td>3349.159912</td>\n",
       "    </tr>\n",
       "    <tr>\n",
       "      <th>2156</th>\n",
       "      <td>2020-08-07</td>\n",
       "      <td>444.450012</td>\n",
       "      <td>170.020004</td>\n",
       "      <td>30.020000</td>\n",
       "      <td>19.030001</td>\n",
       "      <td>3167.459961</td>\n",
       "      <td>124.959999</td>\n",
       "      <td>1452.709961</td>\n",
       "      <td>1494.489990</td>\n",
       "      <td>3351.280029</td>\n",
       "    </tr>\n",
       "    <tr>\n",
       "      <th>2157</th>\n",
       "      <td>2020-08-10</td>\n",
       "      <td>450.910004</td>\n",
       "      <td>179.410004</td>\n",
       "      <td>30.200001</td>\n",
       "      <td>21.650000</td>\n",
       "      <td>3148.159912</td>\n",
       "      <td>127.110001</td>\n",
       "      <td>1418.569946</td>\n",
       "      <td>1496.099976</td>\n",
       "      <td>3360.469971</td>\n",
       "    </tr>\n",
       "    <tr>\n",
       "      <th>2158</th>\n",
       "      <td>2020-08-11</td>\n",
       "      <td>437.500000</td>\n",
       "      <td>180.130005</td>\n",
       "      <td>30.200001</td>\n",
       "      <td>21.500000</td>\n",
       "      <td>3080.669922</td>\n",
       "      <td>126.750000</td>\n",
       "      <td>1374.390015</td>\n",
       "      <td>1480.319946</td>\n",
       "      <td>3333.689941</td>\n",
       "    </tr>\n",
       "  </tbody>\n",
       "</table>\n",
       "<p>2159 rows × 10 columns</p>\n",
       "</div>"
      ],
      "text/plain": [
       "            Date        AAPL          BA          T        MGM         AMZN  \\\n",
       "0     2012-01-12   60.198570   75.510002  30.120001  12.130000   175.929993   \n",
       "1     2012-01-13   59.972858   74.599998  30.070000  12.350000   178.419998   \n",
       "2     2012-01-17   60.671429   75.239998  30.250000  12.250000   181.660004   \n",
       "3     2012-01-18   61.301430   75.059998  30.330000  12.730000   189.440002   \n",
       "4     2012-01-19   61.107143   75.559998  30.420000  12.800000   194.449997   \n",
       "...          ...         ...         ...        ...        ...          ...   \n",
       "2154  2020-08-05  440.250000  174.279999  29.850000  16.719999  3205.030029   \n",
       "2155  2020-08-06  455.609985  172.199997  29.840000  18.459999  3225.000000   \n",
       "2156  2020-08-07  444.450012  170.020004  30.020000  19.030001  3167.459961   \n",
       "2157  2020-08-10  450.910004  179.410004  30.200001  21.650000  3148.159912   \n",
       "2158  2020-08-11  437.500000  180.130005  30.200001  21.500000  3080.669922   \n",
       "\n",
       "             IBM         TSLA         GOOG        sp500  \n",
       "0     180.550003    28.250000   313.644379  1295.500000  \n",
       "1     179.160004    22.790001   311.328064  1289.089966  \n",
       "2     180.000000    26.600000   313.116364  1293.670044  \n",
       "3     181.070007    26.809999   315.273285  1308.040039  \n",
       "4     180.520004    26.760000   318.590851  1314.500000  \n",
       "...          ...          ...          ...          ...  \n",
       "2154  125.449997  1485.020020  1473.609985  3327.770020  \n",
       "2155  126.120003  1489.579956  1500.099976  3349.159912  \n",
       "2156  124.959999  1452.709961  1494.489990  3351.280029  \n",
       "2157  127.110001  1418.569946  1496.099976  3360.469971  \n",
       "2158  126.750000  1374.390015  1480.319946  3333.689941  \n",
       "\n",
       "[2159 rows x 10 columns]"
      ]
     },
     "execution_count": 3,
     "metadata": {},
     "output_type": "execute_result"
    }
   ],
   "source": [
    "#Apple stock prices \n",
    "Df = pd.read_csv(\"C:/Users/Gautam/stocks.csv\")\n",
    "Df"
   ]
  },
  {
   "cell_type": "code",
   "execution_count": 4,
   "id": "88c055eb",
   "metadata": {},
   "outputs": [
    {
     "data": {
      "text/html": [
       "<div>\n",
       "<style scoped>\n",
       "    .dataframe tbody tr th:only-of-type {\n",
       "        vertical-align: middle;\n",
       "    }\n",
       "\n",
       "    .dataframe tbody tr th {\n",
       "        vertical-align: top;\n",
       "    }\n",
       "\n",
       "    .dataframe thead th {\n",
       "        text-align: right;\n",
       "    }\n",
       "</style>\n",
       "<table border=\"1\" class=\"dataframe\">\n",
       "  <thead>\n",
       "    <tr style=\"text-align: right;\">\n",
       "      <th></th>\n",
       "      <th>AAPL</th>\n",
       "      <th>BA</th>\n",
       "      <th>T</th>\n",
       "      <th>MGM</th>\n",
       "      <th>AMZN</th>\n",
       "      <th>IBM</th>\n",
       "      <th>TSLA</th>\n",
       "      <th>GOOG</th>\n",
       "      <th>sp500</th>\n",
       "    </tr>\n",
       "  </thead>\n",
       "  <tbody>\n",
       "    <tr>\n",
       "      <th>count</th>\n",
       "      <td>2159.000000</td>\n",
       "      <td>2159.000000</td>\n",
       "      <td>2159.000000</td>\n",
       "      <td>2159.000000</td>\n",
       "      <td>2159.000000</td>\n",
       "      <td>2159.000000</td>\n",
       "      <td>2159.000000</td>\n",
       "      <td>2159.000000</td>\n",
       "      <td>2159.000000</td>\n",
       "    </tr>\n",
       "    <tr>\n",
       "      <th>mean</th>\n",
       "      <td>140.819823</td>\n",
       "      <td>189.942700</td>\n",
       "      <td>35.162899</td>\n",
       "      <td>23.105743</td>\n",
       "      <td>915.665665</td>\n",
       "      <td>161.853001</td>\n",
       "      <td>259.600815</td>\n",
       "      <td>783.712512</td>\n",
       "      <td>2218.749554</td>\n",
       "    </tr>\n",
       "    <tr>\n",
       "      <th>std</th>\n",
       "      <td>70.827601</td>\n",
       "      <td>103.678586</td>\n",
       "      <td>3.207490</td>\n",
       "      <td>6.963847</td>\n",
       "      <td>697.838905</td>\n",
       "      <td>25.561938</td>\n",
       "      <td>210.988003</td>\n",
       "      <td>334.448057</td>\n",
       "      <td>537.321727</td>\n",
       "    </tr>\n",
       "    <tr>\n",
       "      <th>min</th>\n",
       "      <td>55.790001</td>\n",
       "      <td>67.239998</td>\n",
       "      <td>26.770000</td>\n",
       "      <td>7.140000</td>\n",
       "      <td>175.929993</td>\n",
       "      <td>94.769997</td>\n",
       "      <td>22.790001</td>\n",
       "      <td>278.481171</td>\n",
       "      <td>1278.040039</td>\n",
       "    </tr>\n",
       "    <tr>\n",
       "      <th>25%</th>\n",
       "      <td>89.165714</td>\n",
       "      <td>124.015000</td>\n",
       "      <td>33.040001</td>\n",
       "      <td>18.545000</td>\n",
       "      <td>316.490005</td>\n",
       "      <td>142.769997</td>\n",
       "      <td>184.595001</td>\n",
       "      <td>527.214416</td>\n",
       "      <td>1847.984985</td>\n",
       "    </tr>\n",
       "    <tr>\n",
       "      <th>50%</th>\n",
       "      <td>116.599998</td>\n",
       "      <td>142.419998</td>\n",
       "      <td>34.930000</td>\n",
       "      <td>23.780001</td>\n",
       "      <td>676.010010</td>\n",
       "      <td>156.949997</td>\n",
       "      <td>231.960007</td>\n",
       "      <td>737.599976</td>\n",
       "      <td>2106.629883</td>\n",
       "    </tr>\n",
       "    <tr>\n",
       "      <th>75%</th>\n",
       "      <td>175.019997</td>\n",
       "      <td>297.044998</td>\n",
       "      <td>37.419998</td>\n",
       "      <td>28.430000</td>\n",
       "      <td>1593.645019</td>\n",
       "      <td>185.974998</td>\n",
       "      <td>307.350006</td>\n",
       "      <td>1079.744995</td>\n",
       "      <td>2705.810059</td>\n",
       "    </tr>\n",
       "    <tr>\n",
       "      <th>max</th>\n",
       "      <td>455.609985</td>\n",
       "      <td>440.619995</td>\n",
       "      <td>43.470001</td>\n",
       "      <td>38.029999</td>\n",
       "      <td>3225.000000</td>\n",
       "      <td>215.800003</td>\n",
       "      <td>1643.000000</td>\n",
       "      <td>1568.489990</td>\n",
       "      <td>3386.149902</td>\n",
       "    </tr>\n",
       "  </tbody>\n",
       "</table>\n",
       "</div>"
      ],
      "text/plain": [
       "              AAPL           BA            T          MGM         AMZN  \\\n",
       "count  2159.000000  2159.000000  2159.000000  2159.000000  2159.000000   \n",
       "mean    140.819823   189.942700    35.162899    23.105743   915.665665   \n",
       "std      70.827601   103.678586     3.207490     6.963847   697.838905   \n",
       "min      55.790001    67.239998    26.770000     7.140000   175.929993   \n",
       "25%      89.165714   124.015000    33.040001    18.545000   316.490005   \n",
       "50%     116.599998   142.419998    34.930000    23.780001   676.010010   \n",
       "75%     175.019997   297.044998    37.419998    28.430000  1593.645019   \n",
       "max     455.609985   440.619995    43.470001    38.029999  3225.000000   \n",
       "\n",
       "               IBM         TSLA         GOOG        sp500  \n",
       "count  2159.000000  2159.000000  2159.000000  2159.000000  \n",
       "mean    161.853001   259.600815   783.712512  2218.749554  \n",
       "std      25.561938   210.988003   334.448057   537.321727  \n",
       "min      94.769997    22.790001   278.481171  1278.040039  \n",
       "25%     142.769997   184.595001   527.214416  1847.984985  \n",
       "50%     156.949997   231.960007   737.599976  2106.629883  \n",
       "75%     185.974998   307.350006  1079.744995  2705.810059  \n",
       "max     215.800003  1643.000000  1568.489990  3386.149902  "
      ]
     },
     "execution_count": 4,
     "metadata": {},
     "output_type": "execute_result"
    }
   ],
   "source": [
    "Df.describe()"
   ]
  },
  {
   "cell_type": "code",
   "execution_count": 5,
   "id": "523eb2a1",
   "metadata": {},
   "outputs": [
    {
     "data": {
      "text/plain": [
       "Date     0\n",
       "AAPL     0\n",
       "BA       0\n",
       "T        0\n",
       "MGM      0\n",
       "AMZN     0\n",
       "IBM      0\n",
       "TSLA     0\n",
       "GOOG     0\n",
       "sp500    0\n",
       "dtype: int64"
      ]
     },
     "execution_count": 5,
     "metadata": {},
     "output_type": "execute_result"
    }
   ],
   "source": [
    "#Data cleaning (Data cleaned)\n",
    "Df.isnull().sum()"
   ]
  },
  {
   "cell_type": "code",
   "execution_count": 6,
   "id": "9f39f330",
   "metadata": {},
   "outputs": [
    {
     "name": "stdout",
     "output_type": "stream",
     "text": [
      "[*********************100%***********************]  1 of 1 completed\n"
     ]
    },
    {
     "data": {
      "image/png": "[encoded data removed]",
      "text/plain": [
       "<Figure size 720x360 with 1 Axes>"
      ]
     },
     "metadata": {
      "needs_background": "light"
     },
     "output_type": "display_data"
    }
   ],
   "source": [
    "Df = yf.download('AAPL','2008-01-01','2020-12-31')\n",
    " \n",
    "Df=Df[['Close']] \n",
    " \n",
    "Df= Df.dropna() \n",
    " \n",
    "Df.Close.plot(figsize=(10,5)) \n",
    "plt.ylabel(\"AAPL Prices\")\n",
    "plt.show()"
   ]
  },
  {
   "cell_type": "code",
   "execution_count": 7,
   "id": "d8060da6",
   "metadata": {},
   "outputs": [
    {
     "data": {
      "text/html": [
       "<div>\n",
       "<style scoped>\n",
       "    .dataframe tbody tr th:only-of-type {\n",
       "        vertical-align: middle;\n",
       "    }\n",
       "\n",
       "    .dataframe tbody tr th {\n",
       "        vertical-align: top;\n",
       "    }\n",
       "\n",
       "    .dataframe thead th {\n",
       "        text-align: right;\n",
       "    }\n",
       "</style>\n",
       "<table border=\"1\" class=\"dataframe\">\n",
       "  <thead>\n",
       "    <tr style=\"text-align: right;\">\n",
       "      <th></th>\n",
       "      <th>Close</th>\n",
       "    </tr>\n",
       "    <tr>\n",
       "      <th>Date</th>\n",
       "      <th></th>\n",
       "    </tr>\n",
       "  </thead>\n",
       "  <tbody>\n",
       "    <tr>\n",
       "      <th>2007-12-31</th>\n",
       "      <td>7.074286</td>\n",
       "    </tr>\n",
       "    <tr>\n",
       "      <th>2008-01-02</th>\n",
       "      <td>6.958571</td>\n",
       "    </tr>\n",
       "    <tr>\n",
       "      <th>2008-01-03</th>\n",
       "      <td>6.961786</td>\n",
       "    </tr>\n",
       "    <tr>\n",
       "      <th>2008-01-04</th>\n",
       "      <td>6.430357</td>\n",
       "    </tr>\n",
       "    <tr>\n",
       "      <th>2008-01-07</th>\n",
       "      <td>6.344286</td>\n",
       "    </tr>\n",
       "    <tr>\n",
       "      <th>...</th>\n",
       "      <td>...</td>\n",
       "    </tr>\n",
       "    <tr>\n",
       "      <th>2020-12-23</th>\n",
       "      <td>130.960007</td>\n",
       "    </tr>\n",
       "    <tr>\n",
       "      <th>2020-12-24</th>\n",
       "      <td>131.970001</td>\n",
       "    </tr>\n",
       "    <tr>\n",
       "      <th>2020-12-28</th>\n",
       "      <td>136.690002</td>\n",
       "    </tr>\n",
       "    <tr>\n",
       "      <th>2020-12-29</th>\n",
       "      <td>134.869995</td>\n",
       "    </tr>\n",
       "    <tr>\n",
       "      <th>2020-12-30</th>\n",
       "      <td>133.720001</td>\n",
       "    </tr>\n",
       "  </tbody>\n",
       "</table>\n",
       "<p>3274 rows × 1 columns</p>\n",
       "</div>"
      ],
      "text/plain": [
       "                 Close\n",
       "Date                  \n",
       "2007-12-31    7.074286\n",
       "2008-01-02    6.958571\n",
       "2008-01-03    6.961786\n",
       "2008-01-04    6.430357\n",
       "2008-01-07    6.344286\n",
       "...                ...\n",
       "2020-12-23  130.960007\n",
       "2020-12-24  131.970001\n",
       "2020-12-28  136.690002\n",
       "2020-12-29  134.869995\n",
       "2020-12-30  133.720001\n",
       "\n",
       "[3274 rows x 1 columns]"
      ]
     },
     "execution_count": 7,
     "metadata": {},
     "output_type": "execute_result"
    }
   ],
   "source": [
    "Df"
   ]
  },
  {
   "cell_type": "code",
   "execution_count": 8,
   "id": "538ef3fe",
   "metadata": {},
   "outputs": [
    {
     "data": {
      "text/html": [
       "<div>\n",
       "<style scoped>\n",
       "    .dataframe tbody tr th:only-of-type {\n",
       "        vertical-align: middle;\n",
       "    }\n",
       "\n",
       "    .dataframe tbody tr th {\n",
       "        vertical-align: top;\n",
       "    }\n",
       "\n",
       "    .dataframe thead th {\n",
       "        text-align: right;\n",
       "    }\n",
       "</style>\n",
       "<table border=\"1\" class=\"dataframe\">\n",
       "  <thead>\n",
       "    <tr style=\"text-align: right;\">\n",
       "      <th></th>\n",
       "      <th>S_3</th>\n",
       "      <th>S_9</th>\n",
       "    </tr>\n",
       "    <tr>\n",
       "      <th>Date</th>\n",
       "      <th></th>\n",
       "      <th></th>\n",
       "    </tr>\n",
       "  </thead>\n",
       "  <tbody>\n",
       "    <tr>\n",
       "      <th>2008-01-14</th>\n",
       "      <td>6.310833</td>\n",
       "      <td>6.535317</td>\n",
       "    </tr>\n",
       "    <tr>\n",
       "      <th>2008-01-15</th>\n",
       "      <td>6.303452</td>\n",
       "      <td>6.458730</td>\n",
       "    </tr>\n",
       "    <tr>\n",
       "      <th>2008-01-16</th>\n",
       "      <td>6.196548</td>\n",
       "      <td>6.356349</td>\n",
       "    </tr>\n",
       "    <tr>\n",
       "      <th>2008-01-17</th>\n",
       "      <td>6.041191</td>\n",
       "      <td>6.216310</td>\n",
       "    </tr>\n",
       "    <tr>\n",
       "      <th>2008-01-18</th>\n",
       "      <td>5.828214</td>\n",
       "      <td>6.140278</td>\n",
       "    </tr>\n",
       "  </tbody>\n",
       "</table>\n",
       "</div>"
      ],
      "text/plain": [
       "                 S_3       S_9\n",
       "Date                          \n",
       "2008-01-14  6.310833  6.535317\n",
       "2008-01-15  6.303452  6.458730\n",
       "2008-01-16  6.196548  6.356349\n",
       "2008-01-17  6.041191  6.216310\n",
       "2008-01-18  5.828214  6.140278"
      ]
     },
     "execution_count": 8,
     "metadata": {},
     "output_type": "execute_result"
    }
   ],
   "source": [
    "Df['S_3'] = Df['Close'].shift(1).rolling(window=3).mean() \n",
    "Df['S_9']= Df['Close'].shift(1).rolling(window=9).mean() \n",
    "Df= Df.dropna() \n",
    "X = Df[['S_3','S_9']] \n",
    "X.head()"
   ]
  },
  {
   "cell_type": "code",
   "execution_count": 9,
   "id": "19fcb546",
   "metadata": {},
   "outputs": [
    {
     "data": {
      "text/html": [
       "<div>\n",
       "<style scoped>\n",
       "    .dataframe tbody tr th:only-of-type {\n",
       "        vertical-align: middle;\n",
       "    }\n",
       "\n",
       "    .dataframe tbody tr th {\n",
       "        vertical-align: top;\n",
       "    }\n",
       "\n",
       "    .dataframe thead th {\n",
       "        text-align: right;\n",
       "    }\n",
       "</style>\n",
       "<table border=\"1\" class=\"dataframe\">\n",
       "  <thead>\n",
       "    <tr style=\"text-align: right;\">\n",
       "      <th></th>\n",
       "      <th>S_3</th>\n",
       "      <th>S_9</th>\n",
       "    </tr>\n",
       "  </thead>\n",
       "  <tbody>\n",
       "    <tr>\n",
       "      <th>count</th>\n",
       "      <td>3265.000000</td>\n",
       "      <td>3265.000000</td>\n",
       "    </tr>\n",
       "    <tr>\n",
       "      <th>mean</th>\n",
       "      <td>29.308766</td>\n",
       "      <td>29.193639</td>\n",
       "    </tr>\n",
       "    <tr>\n",
       "      <th>std</th>\n",
       "      <td>24.661822</td>\n",
       "      <td>24.462514</td>\n",
       "    </tr>\n",
       "    <tr>\n",
       "      <th>min</th>\n",
       "      <td>2.897143</td>\n",
       "      <td>3.036349</td>\n",
       "    </tr>\n",
       "    <tr>\n",
       "      <th>25%</th>\n",
       "      <td>12.242381</td>\n",
       "      <td>12.171309</td>\n",
       "    </tr>\n",
       "    <tr>\n",
       "      <th>50%</th>\n",
       "      <td>23.700476</td>\n",
       "      <td>23.740555</td>\n",
       "    </tr>\n",
       "    <tr>\n",
       "      <th>75%</th>\n",
       "      <td>39.126667</td>\n",
       "      <td>39.086389</td>\n",
       "    </tr>\n",
       "    <tr>\n",
       "      <th>max</th>\n",
       "      <td>134.510000</td>\n",
       "      <td>130.863334</td>\n",
       "    </tr>\n",
       "  </tbody>\n",
       "</table>\n",
       "</div>"
      ],
      "text/plain": [
       "               S_3          S_9\n",
       "count  3265.000000  3265.000000\n",
       "mean     29.308766    29.193639\n",
       "std      24.661822    24.462514\n",
       "min       2.897143     3.036349\n",
       "25%      12.242381    12.171309\n",
       "50%      23.700476    23.740555\n",
       "75%      39.126667    39.086389\n",
       "max     134.510000   130.863334"
      ]
     },
     "execution_count": 9,
     "metadata": {},
     "output_type": "execute_result"
    }
   ],
   "source": [
    "X.describe()"
   ]
  },
  {
   "cell_type": "code",
   "execution_count": 10,
   "id": "17b8d3f2",
   "metadata": {},
   "outputs": [
    {
     "data": {
      "text/plain": [
       "Date\n",
       "2008-01-14    6.385000\n",
       "2008-01-15    6.037143\n",
       "2008-01-16    5.701429\n",
       "2008-01-17    5.746071\n",
       "2008-01-18    5.762857\n",
       "Name: Close, dtype: float64"
      ]
     },
     "execution_count": 10,
     "metadata": {},
     "output_type": "execute_result"
    }
   ],
   "source": [
    "y = Df['Close']\n",
    "y.head()"
   ]
  },
  {
   "cell_type": "code",
   "execution_count": 11,
   "id": "1e879ee5",
   "metadata": {},
   "outputs": [],
   "source": [
    "t=.8 \n",
    "t = int(t*len(Df)) \n",
    "# Train dataset \n",
    "X_train = X[:t] \n",
    "y_train = y[:t]  \n",
    "# Test dataset \n",
    "X_test = X[t:] \n",
    "Y_test = y[t:]"
   ]
  },
  {
   "cell_type": "code",
   "execution_count": 12,
   "id": "b3f188ad",
   "metadata": {},
   "outputs": [],
   "source": [
    "linear = LinearRegression().fit(X_train,y_train)"
   ]
  },
  {
   "cell_type": "code",
   "execution_count": 13,
   "id": "40e183b1",
   "metadata": {},
   "outputs": [
    {
     "data": {
      "image/png": "[encoded data removed]",
      "text/plain": [
       "<Figure size 720x360 with 1 Axes>"
      ]
     },
     "metadata": {
      "needs_background": "light"
     },
     "output_type": "display_data"
    }
   ],
   "source": [
    "predicted_price = linear.predict(X_test)  \n",
    "predicted_price = pd.DataFrame(predicted_price,index=Y_test.index,columns = ['price'])  \n",
    "predicted_price.plot(figsize=(10,5))  \n",
    "Y_test.plot()  \n",
    "plt.legend(['predicted_price','actual_price'])  \n",
    "plt.ylabel(\"AAPL Price\")  \n",
    "plt.show()"
   ]
  },
  {
   "cell_type": "code",
   "execution_count": 14,
   "id": "3e1d6193",
   "metadata": {},
   "outputs": [],
   "source": [
    "import pandas as pd\n",
    "import numpy as np\n",
    "from sklearn import metrics\n",
    "%matplotlib inline\n",
    "import matplotlib.pyplot as plt\n",
    "\n",
    "df=pd.read_csv('C:/Users/Gautam/Accenture_stock_history.csv')"
   ]
  },
  {
   "cell_type": "code",
   "execution_count": 15,
   "id": "6edcdba4",
   "metadata": {},
   "outputs": [
    {
     "data": {
      "text/plain": [
       "<AxesSubplot:>"
      ]
     },
     "execution_count": 15,
     "metadata": {},
     "output_type": "execute_result"
    },
    {
     "data": {
      "image/png": "[encoded data removed]",
      "text/plain": [
       "<Figure size 1152x432 with 1 Axes>"
      ]
     },
     "metadata": {
      "needs_background": "light"
     },
     "output_type": "display_data"
    }
   ],
   "source": [
    "df['Date']=pd.to_datetime(df.Date)\n",
    "df['Open'].plot(figsize=(16,6))"
   ]
  },
  {
   "cell_type": "code",
   "execution_count": 16,
   "id": "dd8bf979",
   "metadata": {},
   "outputs": [
    {
     "name": "stderr",
     "output_type": "stream",
     "text": [
      "C:\\Users\\Gautam\\AppData\\Local\\Temp/ipykernel_17908/2699161143.py:16: UserWarning: FixedFormatter should only be used together with FixedLocator\n",
      "  ax.set_xticklabels(new_labels)\n"
     ]
    },
    {
     "data": {
      "text/plain": [
       "[Text(730000.0, 0, '1999-09-03'),\n",
       " Text(731000.0, 0, '2002-05-30'),\n",
       " Text(732000.0, 0, '2005-02-23'),\n",
       " Text(733000.0, 0, '2007-11-20'),\n",
       " Text(734000.0, 0, '2010-08-16'),\n",
       " Text(735000.0, 0, '2013-05-12'),\n",
       " Text(736000.0, 0, '2016-02-06'),\n",
       " Text(737000.0, 0, '2018-11-02'),\n",
       " Text(738000.0, 0, '2021-07-29'),\n",
       " Text(739000.0, 0, '2024-04-24')]"
      ]
     },
     "execution_count": 16,
     "metadata": {},
     "output_type": "execute_result"
    },
    {
     "data": {
      "image/png": "[encoded data removed]",
      "text/plain": [
       "<Figure size 1296x576 with 1 Axes>"
      ]
     },
     "metadata": {
      "needs_background": "light"
     },
     "output_type": "display_data"
    }
   ],
   "source": [
    "dfp=df\n",
    "from datetime import date\n",
    "import seaborn\n",
    "plt.figure(figsize=(18,8))\n",
    "dfp['date_ordinal'] = pd.to_datetime(dfp['Date']).apply(lambda date: date.toordinal())\n",
    "ax = seaborn.regplot(\n",
    "    data=dfp,\n",
    "    x='date_ordinal',\n",
    "    y='Close',\n",
    ")\n",
    "# Tighten up the axes for prettiness\n",
    "ax.set_xlim(dfp['date_ordinal'].min() - 1, dfp['date_ordinal'].max() + 1)\n",
    "ax.set_ylim(0, dfp['Close'].max() + 1)\n",
    "ax.set_xlabel('date')\n",
    "new_labels = [date.fromordinal(int(item)) for item in ax.get_xticks()]\n",
    "ax.set_xticklabels(new_labels)"
   ]
  },
  {
   "cell_type": "code",
   "execution_count": 17,
   "id": "ba2a8c21",
   "metadata": {},
   "outputs": [],
   "source": [
    "x=df[['Low','Open','High','Volume']]\n",
    "y=df['Close']\n",
    "from sklearn.model_selection import train_test_split\n",
    "x_train , x_test , y_train , y_test = train_test_split(x ,y ,random_state = 1) \n",
    "import numpy as np\n",
    "import matplotlib.pyplot as plt  # To visualize\n",
    "import pandas as pd  # To read data\n",
    "from sklearn.linear_model import LinearRegression"
   ]
  },
  {
   "cell_type": "code",
   "execution_count": 18,
   "id": "9f96914f",
   "metadata": {},
   "outputs": [
    {
     "data": {
      "text/plain": [
       "(1271,)"
      ]
     },
     "execution_count": 18,
     "metadata": {},
     "output_type": "execute_result"
    }
   ],
   "source": [
    "y_test.shape"
   ]
  },
  {
   "cell_type": "code",
   "execution_count": 19,
   "id": "9959fa7d",
   "metadata": {},
   "outputs": [
    {
     "data": {
      "text/plain": [
       "(1271, 4)"
      ]
     },
     "execution_count": 19,
     "metadata": {},
     "output_type": "execute_result"
    }
   ],
   "source": [
    "x_test.shape"
   ]
  },
  {
   "cell_type": "code",
   "execution_count": 20,
   "id": "fbf26cd9",
   "metadata": {},
   "outputs": [
    {
     "data": {
      "text/plain": [
       "(3811,)"
      ]
     },
     "execution_count": 20,
     "metadata": {},
     "output_type": "execute_result"
    }
   ],
   "source": [
    "y_train.shape"
   ]
  },
  {
   "cell_type": "code",
   "execution_count": 21,
   "id": "52f7667c",
   "metadata": {},
   "outputs": [
    {
     "data": {
      "text/plain": [
       "(3811, 4)"
      ]
     },
     "execution_count": 21,
     "metadata": {},
     "output_type": "execute_result"
    }
   ],
   "source": [
    "x_train.shape"
   ]
  },
  {
   "cell_type": "code",
   "execution_count": 22,
   "id": "97912660",
   "metadata": {},
   "outputs": [
    {
     "data": {
      "text/plain": [
       "LinearRegression()"
      ]
     },
     "execution_count": 22,
     "metadata": {},
     "output_type": "execute_result"
    }
   ],
   "source": [
    "regressor=LinearRegression()\n",
    "regressor.fit(x_train,y_train)"
   ]
  },
  {
   "cell_type": "code",
   "execution_count": 23,
   "id": "25661ab7",
   "metadata": {},
   "outputs": [],
   "source": [
    "predicted=regressor.predict(x_test)"
   ]
  },
  {
   "cell_type": "code",
   "execution_count": 24,
   "id": "80e42805",
   "metadata": {},
   "outputs": [
    {
     "name": "stdout",
     "output_type": "stream",
     "text": [
      "             Low        Open        High   Volume\n",
      "3541   92.700621   93.186154   93.590761  1952300\n",
      "538    16.181474   16.665058   16.761776  4702400\n",
      "4325  160.973815  161.193278  165.964286  3112800\n",
      "5042  315.850006  318.019989  319.190002  1448300\n",
      "3667   89.343494   90.534018   91.897209  2740200\n",
      "...          ...         ...         ...      ...\n",
      "2653   47.701165   47.759135   48.239460  2729700\n",
      "3223   68.978872   69.250965   69.874135  1705800\n",
      "3219   68.469819   68.610248   69.382633  2607600\n",
      "1635   24.550387   25.642884   25.642884  4780100\n",
      "1877   24.651869   25.683590   26.613700  5442100\n",
      "\n",
      "[1271 rows x 4 columns]\n"
     ]
    }
   ],
   "source": [
    "print(x_test)"
   ]
  },
  {
   "cell_type": "code",
   "execution_count": 25,
   "id": "4e2bdf27",
   "metadata": {},
   "outputs": [
    {
     "data": {
      "text/plain": [
       "(1271,)"
      ]
     },
     "execution_count": 25,
     "metadata": {},
     "output_type": "execute_result"
    }
   ],
   "source": [
    "predicted.shape\n"
   ]
  },
  {
   "cell_type": "code",
   "execution_count": 26,
   "id": "7dfdcd65",
   "metadata": {},
   "outputs": [
    {
     "name": "stdout",
     "output_type": "stream",
     "text": [
      "          Actual   Predicted\n",
      "3541   93.383965   93.196647\n",
      "538    16.761776   16.404226\n",
      "4325  162.261993  164.486047\n",
      "5042  316.769989  317.397493\n",
      "3667   89.534340   90.626074\n",
      "...          ...         ...\n",
      "2653   47.750854   48.130067\n",
      "3223   69.207077   69.560809\n",
      "3219   69.189537   69.133880\n",
      "1635   25.442848   24.827122\n",
      "1877   26.402666   25.558132\n",
      "\n",
      "[1271 rows x 2 columns]\n"
     ]
    }
   ],
   "source": [
    "dfr = pd.DataFrame({'Actual':y_test,'Predicted':predicted})\n",
    "print(dfr)\n"
   ]
  },
  {
   "cell_type": "code",
   "execution_count": 27,
   "id": "18fa0415",
   "metadata": {},
   "outputs": [
    {
     "data": {
      "text/html": [
       "<div>\n",
       "<style scoped>\n",
       "    .dataframe tbody tr th:only-of-type {\n",
       "        vertical-align: middle;\n",
       "    }\n",
       "\n",
       "    .dataframe tbody tr th {\n",
       "        vertical-align: top;\n",
       "    }\n",
       "\n",
       "    .dataframe thead th {\n",
       "        text-align: right;\n",
       "    }\n",
       "</style>\n",
       "<table border=\"1\" class=\"dataframe\">\n",
       "  <thead>\n",
       "    <tr style=\"text-align: right;\">\n",
       "      <th></th>\n",
       "      <th>Date</th>\n",
       "      <th>Open</th>\n",
       "      <th>High</th>\n",
       "      <th>Low</th>\n",
       "      <th>Close</th>\n",
       "      <th>Volume</th>\n",
       "      <th>Dividends</th>\n",
       "      <th>Stock Splits</th>\n",
       "      <th>date_ordinal</th>\n",
       "    </tr>\n",
       "  </thead>\n",
       "  <tbody>\n",
       "    <tr>\n",
       "      <th>0</th>\n",
       "      <td>2001-07-19</td>\n",
       "      <td>11.234038</td>\n",
       "      <td>11.375393</td>\n",
       "      <td>11.159640</td>\n",
       "      <td>11.286116</td>\n",
       "      <td>34994300</td>\n",
       "      <td>0.0</td>\n",
       "      <td>0</td>\n",
       "      <td>730685</td>\n",
       "    </tr>\n",
       "    <tr>\n",
       "      <th>1</th>\n",
       "      <td>2001-07-20</td>\n",
       "      <td>11.196839</td>\n",
       "      <td>11.196839</td>\n",
       "      <td>11.010845</td>\n",
       "      <td>11.167080</td>\n",
       "      <td>9238500</td>\n",
       "      <td>0.0</td>\n",
       "      <td>0</td>\n",
       "      <td>730686</td>\n",
       "    </tr>\n",
       "    <tr>\n",
       "      <th>2</th>\n",
       "      <td>2001-07-23</td>\n",
       "      <td>11.159637</td>\n",
       "      <td>11.167077</td>\n",
       "      <td>10.824848</td>\n",
       "      <td>11.159637</td>\n",
       "      <td>7501000</td>\n",
       "      <td>0.0</td>\n",
       "      <td>0</td>\n",
       "      <td>730689</td>\n",
       "    </tr>\n",
       "    <tr>\n",
       "      <th>3</th>\n",
       "      <td>2001-07-24</td>\n",
       "      <td>11.122439</td>\n",
       "      <td>11.137319</td>\n",
       "      <td>10.936445</td>\n",
       "      <td>11.055481</td>\n",
       "      <td>3537300</td>\n",
       "      <td>0.0</td>\n",
       "      <td>0</td>\n",
       "      <td>730690</td>\n",
       "    </tr>\n",
       "    <tr>\n",
       "      <th>4</th>\n",
       "      <td>2001-07-25</td>\n",
       "      <td>10.936445</td>\n",
       "      <td>11.122439</td>\n",
       "      <td>10.899246</td>\n",
       "      <td>11.122439</td>\n",
       "      <td>4208100</td>\n",
       "      <td>0.0</td>\n",
       "      <td>0</td>\n",
       "      <td>730691</td>\n",
       "    </tr>\n",
       "    <tr>\n",
       "      <th>...</th>\n",
       "      <td>...</td>\n",
       "      <td>...</td>\n",
       "      <td>...</td>\n",
       "      <td>...</td>\n",
       "      <td>...</td>\n",
       "      <td>...</td>\n",
       "      <td>...</td>\n",
       "      <td>...</td>\n",
       "      <td>...</td>\n",
       "    </tr>\n",
       "    <tr>\n",
       "      <th>5077</th>\n",
       "      <td>2021-09-23</td>\n",
       "      <td>337.619995</td>\n",
       "      <td>344.739990</td>\n",
       "      <td>337.130005</td>\n",
       "      <td>343.000000</td>\n",
       "      <td>4543400</td>\n",
       "      <td>0.0</td>\n",
       "      <td>0</td>\n",
       "      <td>738056</td>\n",
       "    </tr>\n",
       "    <tr>\n",
       "      <th>5078</th>\n",
       "      <td>2021-09-24</td>\n",
       "      <td>340.679993</td>\n",
       "      <td>342.880005</td>\n",
       "      <td>337.720001</td>\n",
       "      <td>339.230011</td>\n",
       "      <td>2035900</td>\n",
       "      <td>0.0</td>\n",
       "      <td>0</td>\n",
       "      <td>738057</td>\n",
       "    </tr>\n",
       "    <tr>\n",
       "      <th>5079</th>\n",
       "      <td>2021-09-27</td>\n",
       "      <td>337.519989</td>\n",
       "      <td>337.720001</td>\n",
       "      <td>333.079987</td>\n",
       "      <td>334.510010</td>\n",
       "      <td>2025300</td>\n",
       "      <td>0.0</td>\n",
       "      <td>0</td>\n",
       "      <td>738060</td>\n",
       "    </tr>\n",
       "    <tr>\n",
       "      <th>5080</th>\n",
       "      <td>2021-09-28</td>\n",
       "      <td>331.559998</td>\n",
       "      <td>332.019989</td>\n",
       "      <td>323.859985</td>\n",
       "      <td>324.209991</td>\n",
       "      <td>2300500</td>\n",
       "      <td>0.0</td>\n",
       "      <td>0</td>\n",
       "      <td>738061</td>\n",
       "    </tr>\n",
       "    <tr>\n",
       "      <th>5081</th>\n",
       "      <td>2021-09-29</td>\n",
       "      <td>326.299988</td>\n",
       "      <td>326.410004</td>\n",
       "      <td>323.070007</td>\n",
       "      <td>323.529999</td>\n",
       "      <td>1741300</td>\n",
       "      <td>0.0</td>\n",
       "      <td>0</td>\n",
       "      <td>738062</td>\n",
       "    </tr>\n",
       "  </tbody>\n",
       "</table>\n",
       "<p>5082 rows × 9 columns</p>\n",
       "</div>"
      ],
      "text/plain": [
       "           Date        Open        High         Low       Close    Volume  \\\n",
       "0    2001-07-19   11.234038   11.375393   11.159640   11.286116  34994300   \n",
       "1    2001-07-20   11.196839   11.196839   11.010845   11.167080   9238500   \n",
       "2    2001-07-23   11.159637   11.167077   10.824848   11.159637   7501000   \n",
       "3    2001-07-24   11.122439   11.137319   10.936445   11.055481   3537300   \n",
       "4    2001-07-25   10.936445   11.122439   10.899246   11.122439   4208100   \n",
       "...         ...         ...         ...         ...         ...       ...   \n",
       "5077 2021-09-23  337.619995  344.739990  337.130005  343.000000   4543400   \n",
       "5078 2021-09-24  340.679993  342.880005  337.720001  339.230011   2035900   \n",
       "5079 2021-09-27  337.519989  337.720001  333.079987  334.510010   2025300   \n",
       "5080 2021-09-28  331.559998  332.019989  323.859985  324.209991   2300500   \n",
       "5081 2021-09-29  326.299988  326.410004  323.070007  323.529999   1741300   \n",
       "\n",
       "      Dividends  Stock Splits  date_ordinal  \n",
       "0           0.0             0        730685  \n",
       "1           0.0             0        730686  \n",
       "2           0.0             0        730689  \n",
       "3           0.0             0        730690  \n",
       "4           0.0             0        730691  \n",
       "...         ...           ...           ...  \n",
       "5077        0.0             0        738056  \n",
       "5078        0.0             0        738057  \n",
       "5079        0.0             0        738060  \n",
       "5080        0.0             0        738061  \n",
       "5081        0.0             0        738062  \n",
       "\n",
       "[5082 rows x 9 columns]"
      ]
     },
     "execution_count": 27,
     "metadata": {},
     "output_type": "execute_result"
    }
   ],
   "source": [
    "df"
   ]
  },
  {
   "cell_type": "code",
   "execution_count": 28,
   "id": "ccdb9bfc",
   "metadata": {},
   "outputs": [
    {
     "data": {
      "text/html": [
       "<div>\n",
       "<style scoped>\n",
       "    .dataframe tbody tr th:only-of-type {\n",
       "        vertical-align: middle;\n",
       "    }\n",
       "\n",
       "    .dataframe tbody tr th {\n",
       "        vertical-align: top;\n",
       "    }\n",
       "\n",
       "    .dataframe thead th {\n",
       "        text-align: right;\n",
       "    }\n",
       "</style>\n",
       "<table border=\"1\" class=\"dataframe\">\n",
       "  <thead>\n",
       "    <tr style=\"text-align: right;\">\n",
       "      <th></th>\n",
       "      <th>Actual</th>\n",
       "      <th>Predicted</th>\n",
       "    </tr>\n",
       "  </thead>\n",
       "  <tbody>\n",
       "    <tr>\n",
       "      <th>1</th>\n",
       "      <td>11.167080</td>\n",
       "      <td>11.130430</td>\n",
       "    </tr>\n",
       "    <tr>\n",
       "      <th>4</th>\n",
       "      <td>11.122439</td>\n",
       "      <td>11.093663</td>\n",
       "    </tr>\n",
       "    <tr>\n",
       "      <th>5</th>\n",
       "      <td>10.787649</td>\n",
       "      <td>10.940109</td>\n",
       "    </tr>\n",
       "    <tr>\n",
       "      <th>11</th>\n",
       "      <td>11.271232</td>\n",
       "      <td>11.246256</td>\n",
       "    </tr>\n",
       "    <tr>\n",
       "      <th>12</th>\n",
       "      <td>11.234036</td>\n",
       "      <td>11.271162</td>\n",
       "    </tr>\n",
       "    <tr>\n",
       "      <th>...</th>\n",
       "      <td>...</td>\n",
       "      <td>...</td>\n",
       "    </tr>\n",
       "    <tr>\n",
       "      <th>5068</th>\n",
       "      <td>341.920013</td>\n",
       "      <td>343.625467</td>\n",
       "    </tr>\n",
       "    <tr>\n",
       "      <th>5072</th>\n",
       "      <td>342.230011</td>\n",
       "      <td>341.652953</td>\n",
       "    </tr>\n",
       "    <tr>\n",
       "      <th>5073</th>\n",
       "      <td>335.399994</td>\n",
       "      <td>336.973161</td>\n",
       "    </tr>\n",
       "    <tr>\n",
       "      <th>5076</th>\n",
       "      <td>334.660004</td>\n",
       "      <td>334.865409</td>\n",
       "    </tr>\n",
       "    <tr>\n",
       "      <th>5079</th>\n",
       "      <td>334.510010</td>\n",
       "      <td>334.398789</td>\n",
       "    </tr>\n",
       "  </tbody>\n",
       "</table>\n",
       "<p>1271 rows × 2 columns</p>\n",
       "</div>"
      ],
      "text/plain": [
       "          Actual   Predicted\n",
       "1      11.167080   11.130430\n",
       "4      11.122439   11.093663\n",
       "5      10.787649   10.940109\n",
       "11     11.271232   11.246256\n",
       "12     11.234036   11.271162\n",
       "...          ...         ...\n",
       "5068  341.920013  343.625467\n",
       "5072  342.230011  341.652953\n",
       "5073  335.399994  336.973161\n",
       "5076  334.660004  334.865409\n",
       "5079  334.510010  334.398789\n",
       "\n",
       "[1271 rows x 2 columns]"
      ]
     },
     "execution_count": 28,
     "metadata": {},
     "output_type": "execute_result"
    }
   ],
   "source": [
    "stock_price_predicted = dfr['Predicted'].sort_values()\n",
    "stock_price_actual = dfr['Actual'].sort_values()\n",
    "dfr = pd.DataFrame({'Actual':stock_price_actual,'Predicted':stock_price_predicted})\n",
    "dfr\n"
   ]
  },
  {
   "cell_type": "code",
   "execution_count": 29,
   "id": "b9c6dfc7",
   "metadata": {},
   "outputs": [
    {
     "data": {
      "text/html": [
       "<div>\n",
       "<style scoped>\n",
       "    .dataframe tbody tr th:only-of-type {\n",
       "        vertical-align: middle;\n",
       "    }\n",
       "\n",
       "    .dataframe tbody tr th {\n",
       "        vertical-align: top;\n",
       "    }\n",
       "\n",
       "    .dataframe thead th {\n",
       "        text-align: right;\n",
       "    }\n",
       "</style>\n",
       "<table border=\"1\" class=\"dataframe\">\n",
       "  <thead>\n",
       "    <tr style=\"text-align: right;\">\n",
       "      <th></th>\n",
       "      <th>Date</th>\n",
       "      <th>Open</th>\n",
       "      <th>High</th>\n",
       "      <th>Low</th>\n",
       "      <th>Close</th>\n",
       "      <th>Volume</th>\n",
       "      <th>Dividends</th>\n",
       "      <th>Stock Splits</th>\n",
       "      <th>date_ordinal</th>\n",
       "      <th>Predicted</th>\n",
       "    </tr>\n",
       "  </thead>\n",
       "  <tbody>\n",
       "    <tr>\n",
       "      <th>1</th>\n",
       "      <td>2001-07-20</td>\n",
       "      <td>11.196839</td>\n",
       "      <td>11.196839</td>\n",
       "      <td>11.010845</td>\n",
       "      <td>11.167080</td>\n",
       "      <td>9238500</td>\n",
       "      <td>0.0</td>\n",
       "      <td>0</td>\n",
       "      <td>730686</td>\n",
       "      <td>11.130430</td>\n",
       "    </tr>\n",
       "    <tr>\n",
       "      <th>4</th>\n",
       "      <td>2001-07-25</td>\n",
       "      <td>10.936445</td>\n",
       "      <td>11.122439</td>\n",
       "      <td>10.899246</td>\n",
       "      <td>11.122439</td>\n",
       "      <td>4208100</td>\n",
       "      <td>0.0</td>\n",
       "      <td>0</td>\n",
       "      <td>730691</td>\n",
       "      <td>11.093663</td>\n",
       "    </tr>\n",
       "    <tr>\n",
       "      <th>5</th>\n",
       "      <td>2001-07-26</td>\n",
       "      <td>11.122438</td>\n",
       "      <td>11.152197</td>\n",
       "      <td>10.787649</td>\n",
       "      <td>10.787649</td>\n",
       "      <td>6335300</td>\n",
       "      <td>0.0</td>\n",
       "      <td>0</td>\n",
       "      <td>730692</td>\n",
       "      <td>10.940109</td>\n",
       "    </tr>\n",
       "    <tr>\n",
       "      <th>11</th>\n",
       "      <td>2001-08-03</td>\n",
       "      <td>11.457226</td>\n",
       "      <td>11.457226</td>\n",
       "      <td>11.144756</td>\n",
       "      <td>11.271232</td>\n",
       "      <td>983600</td>\n",
       "      <td>0.0</td>\n",
       "      <td>0</td>\n",
       "      <td>730700</td>\n",
       "      <td>11.246256</td>\n",
       "    </tr>\n",
       "    <tr>\n",
       "      <th>12</th>\n",
       "      <td>2001-08-06</td>\n",
       "      <td>11.271235</td>\n",
       "      <td>11.323313</td>\n",
       "      <td>11.174518</td>\n",
       "      <td>11.234036</td>\n",
       "      <td>777400</td>\n",
       "      <td>0.0</td>\n",
       "      <td>0</td>\n",
       "      <td>730703</td>\n",
       "      <td>11.271162</td>\n",
       "    </tr>\n",
       "    <tr>\n",
       "      <th>...</th>\n",
       "      <td>...</td>\n",
       "      <td>...</td>\n",
       "      <td>...</td>\n",
       "      <td>...</td>\n",
       "      <td>...</td>\n",
       "      <td>...</td>\n",
       "      <td>...</td>\n",
       "      <td>...</td>\n",
       "      <td>...</td>\n",
       "      <td>...</td>\n",
       "    </tr>\n",
       "    <tr>\n",
       "      <th>5068</th>\n",
       "      <td>2021-09-10</td>\n",
       "      <td>343.500000</td>\n",
       "      <td>345.519989</td>\n",
       "      <td>341.500000</td>\n",
       "      <td>341.920013</td>\n",
       "      <td>1725200</td>\n",
       "      <td>0.0</td>\n",
       "      <td>0</td>\n",
       "      <td>738043</td>\n",
       "      <td>343.625467</td>\n",
       "    </tr>\n",
       "    <tr>\n",
       "      <th>5072</th>\n",
       "      <td>2021-09-16</td>\n",
       "      <td>344.640015</td>\n",
       "      <td>345.000000</td>\n",
       "      <td>340.220001</td>\n",
       "      <td>342.230011</td>\n",
       "      <td>2252700</td>\n",
       "      <td>0.0</td>\n",
       "      <td>0</td>\n",
       "      <td>738049</td>\n",
       "      <td>341.652953</td>\n",
       "    </tr>\n",
       "    <tr>\n",
       "      <th>5073</th>\n",
       "      <td>2021-09-17</td>\n",
       "      <td>340.029999</td>\n",
       "      <td>341.519989</td>\n",
       "      <td>334.570007</td>\n",
       "      <td>335.399994</td>\n",
       "      <td>4455100</td>\n",
       "      <td>0.0</td>\n",
       "      <td>0</td>\n",
       "      <td>738050</td>\n",
       "      <td>336.973161</td>\n",
       "    </tr>\n",
       "    <tr>\n",
       "      <th>5076</th>\n",
       "      <td>2021-09-22</td>\n",
       "      <td>335.450012</td>\n",
       "      <td>336.809998</td>\n",
       "      <td>333.140015</td>\n",
       "      <td>334.660004</td>\n",
       "      <td>2441100</td>\n",
       "      <td>0.0</td>\n",
       "      <td>0</td>\n",
       "      <td>738055</td>\n",
       "      <td>334.865409</td>\n",
       "    </tr>\n",
       "    <tr>\n",
       "      <th>5079</th>\n",
       "      <td>2021-09-27</td>\n",
       "      <td>337.519989</td>\n",
       "      <td>337.720001</td>\n",
       "      <td>333.079987</td>\n",
       "      <td>334.510010</td>\n",
       "      <td>2025300</td>\n",
       "      <td>0.0</td>\n",
       "      <td>0</td>\n",
       "      <td>738060</td>\n",
       "      <td>334.398789</td>\n",
       "    </tr>\n",
       "  </tbody>\n",
       "</table>\n",
       "<p>1271 rows × 10 columns</p>\n",
       "</div>"
      ],
      "text/plain": [
       "           Date        Open        High         Low       Close   Volume  \\\n",
       "1    2001-07-20   11.196839   11.196839   11.010845   11.167080  9238500   \n",
       "4    2001-07-25   10.936445   11.122439   10.899246   11.122439  4208100   \n",
       "5    2001-07-26   11.122438   11.152197   10.787649   10.787649  6335300   \n",
       "11   2001-08-03   11.457226   11.457226   11.144756   11.271232   983600   \n",
       "12   2001-08-06   11.271235   11.323313   11.174518   11.234036   777400   \n",
       "...         ...         ...         ...         ...         ...      ...   \n",
       "5068 2021-09-10  343.500000  345.519989  341.500000  341.920013  1725200   \n",
       "5072 2021-09-16  344.640015  345.000000  340.220001  342.230011  2252700   \n",
       "5073 2021-09-17  340.029999  341.519989  334.570007  335.399994  4455100   \n",
       "5076 2021-09-22  335.450012  336.809998  333.140015  334.660004  2441100   \n",
       "5079 2021-09-27  337.519989  337.720001  333.079987  334.510010  2025300   \n",
       "\n",
       "      Dividends  Stock Splits  date_ordinal   Predicted  \n",
       "1           0.0             0        730686   11.130430  \n",
       "4           0.0             0        730691   11.093663  \n",
       "5           0.0             0        730692   10.940109  \n",
       "11          0.0             0        730700   11.246256  \n",
       "12          0.0             0        730703   11.271162  \n",
       "...         ...           ...           ...         ...  \n",
       "5068        0.0             0        738043  343.625467  \n",
       "5072        0.0             0        738049  341.652953  \n",
       "5073        0.0             0        738050  336.973161  \n",
       "5076        0.0             0        738055  334.865409  \n",
       "5079        0.0             0        738060  334.398789  \n",
       "\n",
       "[1271 rows x 10 columns]"
      ]
     },
     "execution_count": 29,
     "metadata": {},
     "output_type": "execute_result"
    }
   ],
   "source": [
    "df['Predicted']=stock_price_predicted \n",
    "df.dropna(inplace=True)\n",
    "df"
   ]
  },
  {
   "cell_type": "code",
   "execution_count": 30,
   "id": "d218db52",
   "metadata": {},
   "outputs": [
    {
     "data": {
      "text/html": [
       "<div>\n",
       "<style scoped>\n",
       "    .dataframe tbody tr th:only-of-type {\n",
       "        vertical-align: middle;\n",
       "    }\n",
       "\n",
       "    .dataframe tbody tr th {\n",
       "        vertical-align: top;\n",
       "    }\n",
       "\n",
       "    .dataframe thead th {\n",
       "        text-align: right;\n",
       "    }\n",
       "</style>\n",
       "<table border=\"1\" class=\"dataframe\">\n",
       "  <thead>\n",
       "    <tr style=\"text-align: right;\">\n",
       "      <th></th>\n",
       "      <th>Open</th>\n",
       "      <th>High</th>\n",
       "      <th>Low</th>\n",
       "      <th>Close</th>\n",
       "      <th>Volume</th>\n",
       "      <th>date_ordinal</th>\n",
       "      <th>Predicted</th>\n",
       "    </tr>\n",
       "  </thead>\n",
       "  <tbody>\n",
       "    <tr>\n",
       "      <th>count</th>\n",
       "      <td>1271.000000</td>\n",
       "      <td>1271.000000</td>\n",
       "      <td>1271.000000</td>\n",
       "      <td>1271.000000</td>\n",
       "      <td>1.271000e+03</td>\n",
       "      <td>1271.000000</td>\n",
       "      <td>1271.000000</td>\n",
       "    </tr>\n",
       "    <tr>\n",
       "      <th>mean</th>\n",
       "      <td>73.965826</td>\n",
       "      <td>74.618256</td>\n",
       "      <td>73.341346</td>\n",
       "      <td>74.027538</td>\n",
       "      <td>2.962395e+06</td>\n",
       "      <td>734320.983478</td>\n",
       "      <td>74.018518</td>\n",
       "    </tr>\n",
       "    <tr>\n",
       "      <th>std</th>\n",
       "      <td>71.303650</td>\n",
       "      <td>71.784967</td>\n",
       "      <td>70.807785</td>\n",
       "      <td>71.322496</td>\n",
       "      <td>2.749583e+06</td>\n",
       "      <td>2132.161458</td>\n",
       "      <td>71.295724</td>\n",
       "    </tr>\n",
       "    <tr>\n",
       "      <th>min</th>\n",
       "      <td>8.555721</td>\n",
       "      <td>9.121145</td>\n",
       "      <td>8.481323</td>\n",
       "      <td>8.816115</td>\n",
       "      <td>4.638000e+05</td>\n",
       "      <td>730686.000000</td>\n",
       "      <td>8.774771</td>\n",
       "    </tr>\n",
       "    <tr>\n",
       "      <th>25%</th>\n",
       "      <td>22.205465</td>\n",
       "      <td>22.662066</td>\n",
       "      <td>21.937073</td>\n",
       "      <td>22.197806</td>\n",
       "      <td>1.800650e+06</td>\n",
       "      <td>732533.500000</td>\n",
       "      <td>22.236480</td>\n",
       "    </tr>\n",
       "    <tr>\n",
       "      <th>50%</th>\n",
       "      <td>42.611057</td>\n",
       "      <td>42.980739</td>\n",
       "      <td>42.389434</td>\n",
       "      <td>42.754711</td>\n",
       "      <td>2.407400e+06</td>\n",
       "      <td>734255.000000</td>\n",
       "      <td>42.855062</td>\n",
       "    </tr>\n",
       "    <tr>\n",
       "      <th>75%</th>\n",
       "      <td>107.455719</td>\n",
       "      <td>107.755847</td>\n",
       "      <td>106.544939</td>\n",
       "      <td>107.129047</td>\n",
       "      <td>3.395150e+06</td>\n",
       "      <td>736209.500000</td>\n",
       "      <td>107.050743</td>\n",
       "    </tr>\n",
       "    <tr>\n",
       "      <th>max</th>\n",
       "      <td>344.640015</td>\n",
       "      <td>345.519989</td>\n",
       "      <td>341.500000</td>\n",
       "      <td>343.329987</td>\n",
       "      <td>6.746140e+07</td>\n",
       "      <td>738060.000000</td>\n",
       "      <td>343.625467</td>\n",
       "    </tr>\n",
       "  </tbody>\n",
       "</table>\n",
       "</div>"
      ],
      "text/plain": [
       "              Open         High          Low        Close        Volume  \\\n",
       "count  1271.000000  1271.000000  1271.000000  1271.000000  1.271000e+03   \n",
       "mean     73.965826    74.618256    73.341346    74.027538  2.962395e+06   \n",
       "std      71.303650    71.784967    70.807785    71.322496  2.749583e+06   \n",
       "min       8.555721     9.121145     8.481323     8.816115  4.638000e+05   \n",
       "25%      22.205465    22.662066    21.937073    22.197806  1.800650e+06   \n",
       "50%      42.611057    42.980739    42.389434    42.754711  2.407400e+06   \n",
       "75%     107.455719   107.755847   106.544939   107.129047  3.395150e+06   \n",
       "max     344.640015   345.519989   341.500000   343.329987  6.746140e+07   \n",
       "\n",
       "        date_ordinal    Predicted  \n",
       "count    1271.000000  1271.000000  \n",
       "mean   734320.983478    74.018518  \n",
       "std      2132.161458    71.295724  \n",
       "min    730686.000000     8.774771  \n",
       "25%    732533.500000    22.236480  \n",
       "50%    734255.000000    42.855062  \n",
       "75%    736209.500000   107.050743  \n",
       "max    738060.000000   343.625467  "
      ]
     },
     "execution_count": 30,
     "metadata": {},
     "output_type": "execute_result"
    }
   ],
   "source": [
    "del df['Stock Splits']\n",
    "del df['Dividends']\n",
    "df.describe()"
   ]
  },
  {
   "cell_type": "code",
   "execution_count": null,
   "id": "e63ea95e",
   "metadata": {},
   "outputs": [],
   "source": []
  },
  {
   "cell_type": "code",
   "execution_count": 31,
   "id": "a06c32c0",
   "metadata": {},
   "outputs": [],
   "source": [
    "from sklearn.metrics import confusion_matrix,accuracy_score"
   ]
  },
  {
   "cell_type": "code",
   "execution_count": 32,
   "id": "c854cf92",
   "metadata": {},
   "outputs": [
    {
     "data": {
      "text/plain": [
       "0.9999569098046823"
      ]
     },
     "execution_count": 32,
     "metadata": {},
     "output_type": "execute_result"
    }
   ],
   "source": [
    "regressor.score(x_test,y_test)"
   ]
  },
  {
   "cell_type": "code",
   "execution_count": 33,
   "id": "fba253f6",
   "metadata": {},
   "outputs": [
    {
     "name": "stdout",
     "output_type": "stream",
     "text": [
      "Mean Absolute Error: 0.29093745238333724\n"
     ]
    }
   ],
   "source": [
    "import math\n",
    "print(\"Mean Absolute Error:\",metrics.mean_absolute_error(y_test,predicted))"
   ]
  },
  {
   "cell_type": "code",
   "execution_count": 34,
   "id": "562dc813",
   "metadata": {},
   "outputs": [
    {
     "name": "stdout",
     "output_type": "stream",
     "text": [
      "Mean Squared Error: 0.21902298814495466\n"
     ]
    }
   ],
   "source": [
    "print(\"Mean Squared Error:\",metrics.mean_squared_error(y_test,predicted))\n"
   ]
  },
  {
   "cell_type": "code",
   "execution_count": 35,
   "id": "b5d466b2",
   "metadata": {},
   "outputs": [
    {
     "name": "stdout",
     "output_type": "stream",
     "text": [
      "Root mean Squared Error: 0.4679989189570363\n"
     ]
    }
   ],
   "source": [
    "print(\"Root mean Squared Error:\",math.sqrt(metrics.mean_squared_error(y_test,predicted)))"
   ]
  },
  {
   "cell_type": "code",
   "execution_count": 36,
   "id": "d765f4ac",
   "metadata": {},
   "outputs": [
    {
     "name": "stdout",
     "output_type": "stream",
     "text": [
      "Root mean Squared Error: 1.9817115661037445\n"
     ]
    }
   ],
   "source": [
    "#Error analysis for the first model(RMSE VALUE)\n",
    "print(\"Root mean Squared Error:\",math.sqrt(metrics.mean_squared_error(Y_test,predicted_price)))"
   ]
  },
  {
   "cell_type": "code",
   "execution_count": 37,
   "id": "92c4ae77",
   "metadata": {},
   "outputs": [
    {
     "name": "stdout",
     "output_type": "stream",
     "text": [
      "Mean Squared Error: 3.927180731229356\n"
     ]
    }
   ],
   "source": [
    "#Error analysis for the first model(MSE VALUE)\n",
    "print(\"Mean Squared Error:\",metrics.mean_squared_error(Y_test,predicted_price))"
   ]
  },
  {
   "cell_type": "code",
   "execution_count": 38,
   "id": "52b66e37",
   "metadata": {},
   "outputs": [
    {
     "name": "stdout",
     "output_type": "stream",
     "text": [
      "Mean Absolute Error: 1.273157931923673\n"
     ]
    }
   ],
   "source": [
    "#Error analysis for the first model(MAE VALUE)\n",
    "print(\"Mean Absolute Error:\",metrics.mean_absolute_error(Y_test,predicted_price))"
   ]
  },
  {
   "cell_type": "code",
   "execution_count": 39,
   "id": "947d1143",
   "metadata": {},
   "outputs": [
    {
     "data": {
      "image/png": "[encoded data removed]",
      "text/plain": [
       "<Figure size 720x360 with 1 Axes>"
      ]
     },
     "metadata": {
      "needs_background": "light"
     },
     "output_type": "display_data"
    }
   ],
   "source": [
    "df['Predicted'].plot(figsize=(10,5))   \n",
    "plt.legend(['Predicted price'])  \n",
    "plt.ylabel(\"AAPL Price\")  \n",
    "plt.show()"
   ]
  },
  {
   "cell_type": "code",
   "execution_count": 40,
   "id": "7dd22244",
   "metadata": {},
   "outputs": [
    {
     "data": {
      "image/png": "[encoded data removed]",
      "text/plain": [
       "<Figure size 720x360 with 1 Axes>"
      ]
     },
     "metadata": {
      "needs_background": "light"
     },
     "output_type": "display_data"
    }
   ],
   "source": [
    "df['Close'].plot(figsize=(10,5))   \n",
    "plt.legend(['Actual price'])  \n",
    "plt.ylabel(\"AAPL Price\")  \n",
    "plt.show()"
   ]
  },
  {
   "cell_type": "code",
   "execution_count": null,
   "id": "5294179c",
   "metadata": {},
   "outputs": [],
   "source": []
  }
 ],
 "metadata": {
  "kernelspec": {
   "display_name": "Python 3 (ipykernel)",
   "language": "python",
   "name": "python3"
  },
  "language_info": {
   "codemirror_mode": {
    "name": "ipython",
    "version": 3
   },
   "file_extension": ".py",
   "mimetype": "text/x-python",
   "name": "python",
   "nbconvert_exporter": "python",
   "pygments_lexer": "ipython3",
   "version": "3.9.1"
  }
 },
 "nbformat": 4,
 "nbformat_minor": 5
}
